{
 "cells": [
  {
   "cell_type": "code",
   "execution_count": 1,
   "metadata": {},
   "outputs": [],
   "source": [
    "import os\n",
    "import json\n",
    "import pandas as pd\n",
    "import traceback"
   ]
  },
  {
   "cell_type": "code",
   "execution_count": null,
   "metadata": {},
   "outputs": [],
   "source": [
    "from dotenv import load_dotenv\n",
    "load_dotenv()\n",
    "KEY=os.getenv('OPENAI_API_KEY')\n",
    "print(KEY)"
   ]
  },
  {
   "cell_type": "code",
   "execution_count": 5,
   "metadata": {},
   "outputs": [],
   "source": [
    "from langchain.chat_models import ChatOpenAI\n",
    "\n",
    "llm=ChatOpenAI(openai_api_key=KEY, model_name=\"gpt-3.5-turbo\", temperature=0.5)"
   ]
  },
  {
   "cell_type": "code",
   "execution_count": 6,
   "metadata": {},
   "outputs": [],
   "source": [
    "from langchain.llms import OpenAI\n",
    "from langchain.prompts import PromptTemplate\n",
    "from langchain.chains import LLMChain, SequentialChain\n",
    "from langchain.callbacks import get_openai_callback\n",
    "import PyPDF2"
   ]
  },
  {
   "cell_type": "code",
   "execution_count": 7,
   "metadata": {},
   "outputs": [],
   "source": [
    "RESPONSE_JSON={\n",
    "    \"1\": {\n",
    "        \"mcq\": \"multiple choice questions\",\n",
    "        \"options\":{\n",
    "            \"a\": \"choice here\",\n",
    "            \"b\": \"choice here\",\n",
    "            \"c\": \"choice here\",\n",
    "            \"d\": \"choice here\",\n",
    "        },\n",
    "        \"correct\": \"correct_answer\",\n",
    "    },\n",
    "    \"2\": {\n",
    "        \"mcq\": \"multiple choice questions\",\n",
    "        \"options\":{\n",
    "            \"a\": \"choice here\",\n",
    "            \"b\": \"choice here\",\n",
    "            \"c\": \"choice here\",\n",
    "            \"d\": \"choice here\",\n",
    "        },\n",
    "        \"correct\": \"correct_answer\",\n",
    "    },\n",
    "    \"1\": {\n",
    "        \"mcq\": \"multiple choice questions\",\n",
    "        \"options\":{\n",
    "            \"a\": \"choice here\",\n",
    "            \"b\": \"choice here\",\n",
    "            \"c\": \"choice here\",\n",
    "            \"d\": \"choice here\",\n",
    "        },\n",
    "        \"correct\": \"correct_answer\",\n",
    "    },\n",
    "}\n",
    "\n",
    "TEMPLATE=\"\"\"\n",
    "Text:{text}\n",
    "You are an expert MCQ maker. Given the above text, it is your job to \\\n",
    "\"create a quiz of {number} multiple choice questions for {topic} students in {tone} tone.\n",
    "Make sure the questions are not repeated and check all the questions to be conforming the text as well. \n",
    "Make sure to format your response like RESPONSE_JSON below and use it as a guide. \\\n",
    "Ensure to make {number} MCQs\n",
    "###RESPONSE_JSON\n",
    "{response_json}\n",
    "\"\"\""
   ]
  },
  {
   "cell_type": "code",
   "execution_count": 17,
   "metadata": {},
   "outputs": [],
   "source": [
    "quiz_prompt = PromptTemplate(\n",
    "    input_variables=['text', 'topic', 'number', 'tone', 'response_json'],\n",
    "    template=TEMPLATE\n",
    ")"
   ]
  },
  {
   "cell_type": "code",
   "execution_count": 18,
   "metadata": {},
   "outputs": [],
   "source": [
    "quiz_chain = LLMChain(llm=llm, prompt=quiz_prompt, output_key=\"quiz\", verbose=True)"
   ]
  },
  {
   "cell_type": "code",
   "execution_count": 8,
   "metadata": {},
   "outputs": [],
   "source": [
    "TEMPLATE2=\"\"\"\n",
    "You are an expert english grammarian and writer. Given a Multiple Choice Quiz for {topic} students.\\\n",
    "You need to evaluate the complexity of the question and give a complete analysis of the quiz. Only use at max 50 words for complexity\\\n",
    "if the quiz is not at per with the cognitive and analytical abilities of the students,\\\n",
    "update the quiz questions which needs to be changed and change the tone such that it perfectly fits the student abilities\n",
    "Quiz_MCQs:\n",
    "{quiz}\n",
    "Check from an expert English Writer of the above quiz:\n",
    "\"\"\""
   ]
  },
  {
   "cell_type": "code",
   "execution_count": 19,
   "metadata": {},
   "outputs": [],
   "source": [
    "quiz_evaluation_prompt = PromptTemplate(input_variables=[\"topic\", \"quiz\"], template=TEMPLATE2)\n",
    "review_chain=LLMChain(llm=llm, prompt=quiz_evaluation_prompt, output_key=\"review\",verbose=True)"
   ]
  },
  {
   "cell_type": "code",
   "execution_count": 24,
   "metadata": {},
   "outputs": [],
   "source": [
    "gen_eval_chain = SequentialChain(chains=[quiz_chain, review_chain], \n",
    "                                 input_variables=['text', 'topic','number', 'tone', 'response_json'],\n",
    "                                 output_variables=[\"quiz\",\"review\"],\n",
    "                                 verbose=True)"
   ]
  },
  {
   "cell_type": "code",
   "execution_count": 21,
   "metadata": {},
   "outputs": [
    {
     "name": "stdout",
     "output_type": "stream",
     "text": [
      "The term machine learning was coined in 1959 by Arthur Samuel, an IBM employee and pioneer in the field of computer gaming and artificial intelligence.[9][10] The synonym self-teaching computers was also used in this time period.[11][12]\n",
      "Although the earliest machine learning model was introduced in the 1950s when Arthur Samuel invented a program that calculated the winning chance in checkers for each side, the history of machine learning roots back to decades of human desire and effort to study human cognitive processes.[13] In 1949, Canadian psychologist Donald Hebb published the book The Organization of Behavior, in which he introduced a theoretical neural structure formed by certain interactions among nerve cells.[14] Hebb's model of neurons interacting with one another set a groundwork for how AIs and machine learning algorithms work under nodes, or artificial neurons used by computers to communicate data.[13] Other researchers who have studied human cognitive systems contributed to the modern machine learning technologies as well, including logician Walter Pitts and Warren McCulloch, who proposed the early mathematical models of neural networks to come up with algorithms that mirror human thought processes.[13]\n",
      "By the early 1960s an experimental \"learning machine\" with punched tape memory, called Cybertron, had been developed by Raytheon Company to analyze sonar signals, electrocardiograms, and speech patterns using rudimentary reinforcement learning. It was repetitively \"trained\" by a human operator/teacher to recognize patterns and equipped with a \"goof\" button to cause it to re-evaluate incorrect decisions.[15] A representative book on research into machine learning during the 1960s was Nilsson's book on Learning Machines, dealing mostly with machine learning for pattern classification.[16] Interest related to pattern recognition continued into the 1970s, as described by Duda and Hart in 1973.[17] In 1981 a report was given on using teaching strategies so that an artificial neural network learns to recognize 40 characters (26 letters, 10 digits, and 4 special symbols) from a computer terminal.[18]\n",
      "Tom M. Mitchell provided a widely quoted, more formal definition of the algorithms studied in the machine learning field: \"A computer program is said to learn from experience E with respect to some class of tasks T and performance measure P if its performance at tasks in T, as measured by P, improves with experience E.\"[19] This definition of the tasks in which machine learning is concerned offers a fundamentally operational definition rather than defining the field in cognitive terms. This follows Alan Turing's proposal in his paper \"Computing Machinery and Intelligence\", in which the question \"Can machines think?\" is replaced with the question \"Can machines do what we (as thinking entities) can do?\".[20]\n",
      "Modern-day machine learning has two objectives. One is to classify data based on models which have been developed; the other purpose is to make predictions for future outcomes based on these models. A hypothetical algorithm specific to classifying data may use computer vision of moles coupled with supervised learning in order to train it to classify the cancerous moles. A machine learning algorithm for stock trading may inform the trader of future potential predictions.\n"
     ]
    }
   ],
   "source": [
    "file_path='/Users/prasadrg/data/projects/mcqgen/data.txt'\n",
    "with open(file_path, 'r') as file:\n",
    "    TEXT=file.read()\n",
    "\n",
    "print(TEXT)"
   ]
  },
  {
   "cell_type": "code",
   "execution_count": 22,
   "metadata": {},
   "outputs": [
    {
     "data": {
      "text/plain": [
       "'{\"1\": {\"mcq\": \"multiple choice questions\", \"options\": {\"a\": \"choice here\", \"b\": \"choice here\", \"c\": \"choice here\", \"d\": \"choice here\"}, \"correct\": \"correct_answer\"}, \"2\": {\"mcq\": \"multiple choice questions\", \"options\": {\"a\": \"choice here\", \"b\": \"choice here\", \"c\": \"choice here\", \"d\": \"choice here\"}, \"correct\": \"correct_answer\"}}'"
      ]
     },
     "execution_count": 22,
     "metadata": {},
     "output_type": "execute_result"
    }
   ],
   "source": [
    "json.dumps(RESPONSE_JSON)"
   ]
  },
  {
   "cell_type": "code",
   "execution_count": 25,
   "metadata": {},
   "outputs": [
    {
     "name": "stdout",
     "output_type": "stream",
     "text": [
      "\n",
      "\n",
      "\u001b[1m> Entering new SequentialChain chain...\u001b[0m\n",
      "\n",
      "\n",
      "\u001b[1m> Entering new LLMChain chain...\u001b[0m\n",
      "Prompt after formatting:\n",
      "\u001b[32;1m\u001b[1;3m\n",
      "Text:The term machine learning was coined in 1959 by Arthur Samuel, an IBM employee and pioneer in the field of computer gaming and artificial intelligence.[9][10] The synonym self-teaching computers was also used in this time period.[11][12]\n",
      "Although the earliest machine learning model was introduced in the 1950s when Arthur Samuel invented a program that calculated the winning chance in checkers for each side, the history of machine learning roots back to decades of human desire and effort to study human cognitive processes.[13] In 1949, Canadian psychologist Donald Hebb published the book The Organization of Behavior, in which he introduced a theoretical neural structure formed by certain interactions among nerve cells.[14] Hebb's model of neurons interacting with one another set a groundwork for how AIs and machine learning algorithms work under nodes, or artificial neurons used by computers to communicate data.[13] Other researchers who have studied human cognitive systems contributed to the modern machine learning technologies as well, including logician Walter Pitts and Warren McCulloch, who proposed the early mathematical models of neural networks to come up with algorithms that mirror human thought processes.[13]\n",
      "By the early 1960s an experimental \"learning machine\" with punched tape memory, called Cybertron, had been developed by Raytheon Company to analyze sonar signals, electrocardiograms, and speech patterns using rudimentary reinforcement learning. It was repetitively \"trained\" by a human operator/teacher to recognize patterns and equipped with a \"goof\" button to cause it to re-evaluate incorrect decisions.[15] A representative book on research into machine learning during the 1960s was Nilsson's book on Learning Machines, dealing mostly with machine learning for pattern classification.[16] Interest related to pattern recognition continued into the 1970s, as described by Duda and Hart in 1973.[17] In 1981 a report was given on using teaching strategies so that an artificial neural network learns to recognize 40 characters (26 letters, 10 digits, and 4 special symbols) from a computer terminal.[18]\n",
      "Tom M. Mitchell provided a widely quoted, more formal definition of the algorithms studied in the machine learning field: \"A computer program is said to learn from experience E with respect to some class of tasks T and performance measure P if its performance at tasks in T, as measured by P, improves with experience E.\"[19] This definition of the tasks in which machine learning is concerned offers a fundamentally operational definition rather than defining the field in cognitive terms. This follows Alan Turing's proposal in his paper \"Computing Machinery and Intelligence\", in which the question \"Can machines think?\" is replaced with the question \"Can machines do what we (as thinking entities) can do?\".[20]\n",
      "Modern-day machine learning has two objectives. One is to classify data based on models which have been developed; the other purpose is to make predictions for future outcomes based on these models. A hypothetical algorithm specific to classifying data may use computer vision of moles coupled with supervised learning in order to train it to classify the cancerous moles. A machine learning algorithm for stock trading may inform the trader of future potential predictions.\n",
      "You are an expert MCQ maker. Given the above text, it is your job to \"create a quiz of 5 multiple choice questions for AI students in simple tone.\n",
      "Make sure the questions are not repeated and check all the questions to be conforming the text as well. \n",
      "Make sure to format your response like RESPONSE_JSON below and use it as a guide. Ensure to make 5 MCQs\n",
      "###RESPONSE_JSON\n",
      "{\"1\": {\"mcq\": \"multiple choice questions\", \"options\": {\"a\": \"choice here\", \"b\": \"choice here\", \"c\": \"choice here\", \"d\": \"choice here\"}, \"correct\": \"correct_answer\"}, \"2\": {\"mcq\": \"multiple choice questions\", \"options\": {\"a\": \"choice here\", \"b\": \"choice here\", \"c\": \"choice here\", \"d\": \"choice here\"}, \"correct\": \"correct_answer\"}}\n",
      "\u001b[0m\n",
      "\n",
      "\u001b[1m> Finished chain.\u001b[0m\n",
      "\n",
      "\n",
      "\u001b[1m> Entering new LLMChain chain...\u001b[0m\n",
      "Prompt after formatting:\n",
      "\u001b[32;1m\u001b[1;3m\n",
      "You are an expert english grammarian and writer. Given a Multiple Choice Quiz for AI students.You need to evaluate the complexity of the question and give a complete analysis of the quiz. Only use at max 50 words for complexityif the quiz is not at per with the cognitive and analytical abilities of the students,update the quiz questions which needs to be changed and change the tone such that it perfectly fits the student abilities\n",
      "Quiz_MCQs:\n",
      "\n",
      "{\n",
      "\"1\": {\n",
      "\"mcq\": \"Who coined the term machine learning in 1959?\",\n",
      "\"options\": {\n",
      "\"a\": \"Donald Hebb\",\n",
      "\"b\": \"Walter Pitts\",\n",
      "\"c\": \"Arthur Samuel\",\n",
      "\"d\": \"Raytheon Company\"\n",
      "},\n",
      "\"correct\": \"c\"\n",
      "},\n",
      "\"2\": {\n",
      "\"mcq\": \"What was the early machine learning model introduced by Arthur Samuel in the 1950s?\",\n",
      "\"options\": {\n",
      "\"a\": \"Program for calculating winning chance in checkers\",\n",
      "\"b\": \"Program for analyzing sonar signals\",\n",
      "\"c\": \"Program for recognizing speech patterns\",\n",
      "\"d\": \"Program for studying human cognitive processes\"\n",
      "},\n",
      "\"correct\": \"a\"\n",
      "},\n",
      "\"3\": {\n",
      "\"mcq\": \"Which book introduced a theoretical neural structure by Donald Hebb in 1949?\",\n",
      "\"options\": {\n",
      "\"a\": \"Learning Machines by Nilsson\",\n",
      "\"b\": \"Computing Machinery and Intelligence by Alan Turing\",\n",
      "\"c\": \"The Organization of Behavior by Donald Hebb\",\n",
      "\"d\": \"The Organization of Artificial Neurons by Warren McCulloch\"\n",
      "},\n",
      "\"correct\": \"c\"\n",
      "},\n",
      "\"4\": {\n",
      "\"mcq\": \"What was the purpose of the experimental 'learning machine' Cybertron developed by Raytheon Company in the early 1960s?\",\n",
      "\"options\": {\n",
      "\"a\": \"Analyze electrocardiograms\",\n",
      "\"b\": \"Recognize patterns\",\n",
      "\"c\": \"Train artificial neural networks\",\n",
      "\"d\": \"Study human cognitive systems\"\n",
      "},\n",
      "\"correct\": \"b\"\n",
      "},\n",
      "\"5\": {\n",
      "\"mcq\": \"According to Tom M. Mitchell, what does a computer program do in machine learning?\",\n",
      "\"options\": {\n",
      "\"a\": \"Improve performance at tasks in T with experience E\",\n",
      "\"b\": \"Define the field in cognitive terms\",\n",
      "\"c\": \"Develop models based on data\",\n",
      "\"d\": \"Make predictions for future outcomes\"\n",
      "},\n",
      "\"correct\": \"a\"\n",
      "}\n",
      "}\n",
      "Check from an expert English Writer of the above quiz:\n",
      "\u001b[0m\n",
      "\n",
      "\u001b[1m> Finished chain.\u001b[0m\n",
      "\n",
      "\u001b[1m> Finished chain.\u001b[0m\n"
     ]
    }
   ],
   "source": [
    "TOPIC=\"AI\"\n",
    "NUMBER=5\n",
    "TONE=\"simple\"\n",
    "\n",
    "with get_openai_callback() as cb:\n",
    "    response=gen_eval_chain(\n",
    "    {\n",
    "    \"text\": TEXT,\n",
    "    \"topic\": TOPIC,\n",
    "    \"number\": NUMBER, \n",
    "    \"tone\": TONE,\n",
    "    \"response_json\": json.dumps(RESPONSE_JSON)\n",
    "    }\n",
    ")"
   ]
  },
  {
   "cell_type": "code",
   "execution_count": 26,
   "metadata": {},
   "outputs": [
    {
     "name": "stdout",
     "output_type": "stream",
     "text": [
      "Total tokens: 1799\n",
      "Prompt tokens: 1342\n",
      "Completion tokens: 457\n",
      "Total Cost: 0.002927\n"
     ]
    }
   ],
   "source": [
    "print(f\"Total tokens: {cb.total_tokens}\")\n",
    "print(f\"Prompt tokens: {cb.prompt_tokens}\")\n",
    "print(f\"Completion tokens: {cb.completion_tokens}\")\n",
    "print(f\"Total Cost: {cb.total_cost}\")"
   ]
  },
  {
   "cell_type": "code",
   "execution_count": 27,
   "metadata": {},
   "outputs": [
    {
     "data": {
      "text/plain": [
       "{'text': 'The term machine learning was coined in 1959 by Arthur Samuel, an IBM employee and pioneer in the field of computer gaming and artificial intelligence.[9][10] The synonym self-teaching computers was also used in this time period.[11][12]\\nAlthough the earliest machine learning model was introduced in the 1950s when Arthur Samuel invented a program that calculated the winning chance in checkers for each side, the history of machine learning roots back to decades of human desire and effort to study human cognitive processes.[13] In 1949, Canadian psychologist Donald Hebb published the book The Organization of Behavior, in which he introduced a theoretical neural structure formed by certain interactions among nerve cells.[14] Hebb\\'s model of neurons interacting with one another set a groundwork for how AIs and machine learning algorithms work under nodes, or artificial neurons used by computers to communicate data.[13] Other researchers who have studied human cognitive systems contributed to the modern machine learning technologies as well, including logician Walter Pitts and Warren McCulloch, who proposed the early mathematical models of neural networks to come up with algorithms that mirror human thought processes.[13]\\nBy the early 1960s an experimental \"learning machine\" with punched tape memory, called Cybertron, had been developed by Raytheon Company to analyze sonar signals, electrocardiograms, and speech patterns using rudimentary reinforcement learning. It was repetitively \"trained\" by a human operator/teacher to recognize patterns and equipped with a \"goof\" button to cause it to re-evaluate incorrect decisions.[15] A representative book on research into machine learning during the 1960s was Nilsson\\'s book on Learning Machines, dealing mostly with machine learning for pattern classification.[16] Interest related to pattern recognition continued into the 1970s, as described by Duda and Hart in 1973.[17] In 1981 a report was given on using teaching strategies so that an artificial neural network learns to recognize 40 characters (26 letters, 10 digits, and 4 special symbols) from a computer terminal.[18]\\nTom M. Mitchell provided a widely quoted, more formal definition of the algorithms studied in the machine learning field: \"A computer program is said to learn from experience E with respect to some class of tasks T and performance measure P if its performance at tasks in T, as measured by P, improves with experience E.\"[19] This definition of the tasks in which machine learning is concerned offers a fundamentally operational definition rather than defining the field in cognitive terms. This follows Alan Turing\\'s proposal in his paper \"Computing Machinery and Intelligence\", in which the question \"Can machines think?\" is replaced with the question \"Can machines do what we (as thinking entities) can do?\".[20]\\nModern-day machine learning has two objectives. One is to classify data based on models which have been developed; the other purpose is to make predictions for future outcomes based on these models. A hypothetical algorithm specific to classifying data may use computer vision of moles coupled with supervised learning in order to train it to classify the cancerous moles. A machine learning algorithm for stock trading may inform the trader of future potential predictions.',\n",
       " 'topic': 'AI',\n",
       " 'number': 5,\n",
       " 'tone': 'simple',\n",
       " 'response_json': '{\"1\": {\"mcq\": \"multiple choice questions\", \"options\": {\"a\": \"choice here\", \"b\": \"choice here\", \"c\": \"choice here\", \"d\": \"choice here\"}, \"correct\": \"correct_answer\"}, \"2\": {\"mcq\": \"multiple choice questions\", \"options\": {\"a\": \"choice here\", \"b\": \"choice here\", \"c\": \"choice here\", \"d\": \"choice here\"}, \"correct\": \"correct_answer\"}}',\n",
       " 'quiz': '\\n{\\n\"1\": {\\n\"mcq\": \"Who coined the term machine learning in 1959?\",\\n\"options\": {\\n\"a\": \"Donald Hebb\",\\n\"b\": \"Walter Pitts\",\\n\"c\": \"Arthur Samuel\",\\n\"d\": \"Raytheon Company\"\\n},\\n\"correct\": \"c\"\\n},\\n\"2\": {\\n\"mcq\": \"What was the early machine learning model introduced by Arthur Samuel in the 1950s?\",\\n\"options\": {\\n\"a\": \"Program for calculating winning chance in checkers\",\\n\"b\": \"Program for analyzing sonar signals\",\\n\"c\": \"Program for recognizing speech patterns\",\\n\"d\": \"Program for studying human cognitive processes\"\\n},\\n\"correct\": \"a\"\\n},\\n\"3\": {\\n\"mcq\": \"Which book introduced a theoretical neural structure by Donald Hebb in 1949?\",\\n\"options\": {\\n\"a\": \"Learning Machines by Nilsson\",\\n\"b\": \"Computing Machinery and Intelligence by Alan Turing\",\\n\"c\": \"The Organization of Behavior by Donald Hebb\",\\n\"d\": \"The Organization of Artificial Neurons by Warren McCulloch\"\\n},\\n\"correct\": \"c\"\\n},\\n\"4\": {\\n\"mcq\": \"What was the purpose of the experimental \\'learning machine\\' Cybertron developed by Raytheon Company in the early 1960s?\",\\n\"options\": {\\n\"a\": \"Analyze electrocardiograms\",\\n\"b\": \"Recognize patterns\",\\n\"c\": \"Train artificial neural networks\",\\n\"d\": \"Study human cognitive systems\"\\n},\\n\"correct\": \"b\"\\n},\\n\"5\": {\\n\"mcq\": \"According to Tom M. Mitchell, what does a computer program do in machine learning?\",\\n\"options\": {\\n\"a\": \"Improve performance at tasks in T with experience E\",\\n\"b\": \"Define the field in cognitive terms\",\\n\"c\": \"Develop models based on data\",\\n\"d\": \"Make predictions for future outcomes\"\\n},\\n\"correct\": \"a\"\\n}\\n}',\n",
       " 'review': 'The complexity of the quiz questions is high, suitable for advanced AI students. To better fit student abilities, consider simplifying language and providing more context in questions. For example, \"Who coined the term machine learning?\" could be revised to \"Who first used the term machine learning in 1959?\" to aid comprehension.'}"
      ]
     },
     "execution_count": 27,
     "metadata": {},
     "output_type": "execute_result"
    }
   ],
   "source": [
    "response"
   ]
  },
  {
   "cell_type": "code",
   "execution_count": 28,
   "metadata": {},
   "outputs": [
    {
     "data": {
      "text/plain": [
       "{'1': {'mcq': 'Who coined the term machine learning in 1959?',\n",
       "  'options': {'a': 'Donald Hebb',\n",
       "   'b': 'Walter Pitts',\n",
       "   'c': 'Arthur Samuel',\n",
       "   'd': 'Raytheon Company'},\n",
       "  'correct': 'c'},\n",
       " '2': {'mcq': 'What was the early machine learning model introduced by Arthur Samuel in the 1950s?',\n",
       "  'options': {'a': 'Program for calculating winning chance in checkers',\n",
       "   'b': 'Program for analyzing sonar signals',\n",
       "   'c': 'Program for recognizing speech patterns',\n",
       "   'd': 'Program for studying human cognitive processes'},\n",
       "  'correct': 'a'},\n",
       " '3': {'mcq': 'Which book introduced a theoretical neural structure by Donald Hebb in 1949?',\n",
       "  'options': {'a': 'Learning Machines by Nilsson',\n",
       "   'b': 'Computing Machinery and Intelligence by Alan Turing',\n",
       "   'c': 'The Organization of Behavior by Donald Hebb',\n",
       "   'd': 'The Organization of Artificial Neurons by Warren McCulloch'},\n",
       "  'correct': 'c'},\n",
       " '4': {'mcq': \"What was the purpose of the experimental 'learning machine' Cybertron developed by Raytheon Company in the early 1960s?\",\n",
       "  'options': {'a': 'Analyze electrocardiograms',\n",
       "   'b': 'Recognize patterns',\n",
       "   'c': 'Train artificial neural networks',\n",
       "   'd': 'Study human cognitive systems'},\n",
       "  'correct': 'b'},\n",
       " '5': {'mcq': 'According to Tom M. Mitchell, what does a computer program do in machine learning?',\n",
       "  'options': {'a': 'Improve performance at tasks in T with experience E',\n",
       "   'b': 'Define the field in cognitive terms',\n",
       "   'c': 'Develop models based on data',\n",
       "   'd': 'Make predictions for future outcomes'},\n",
       "  'correct': 'a'}}"
      ]
     },
     "execution_count": 28,
     "metadata": {},
     "output_type": "execute_result"
    }
   ],
   "source": [
    "quiz = json.loads(response.get('quiz'))\n",
    "quiz"
   ]
  },
  {
   "cell_type": "code",
   "execution_count": 29,
   "metadata": {},
   "outputs": [
    {
     "data": {
      "text/plain": [
       "[{'MCQ': 'Who coined the term machine learning in 1959?',\n",
       "  'Choices': 'a: Donald Hebb | b: Walter Pitts | c: Arthur Samuel | d: Raytheon Company',\n",
       "  'Correct': 'c'},\n",
       " {'MCQ': 'What was the early machine learning model introduced by Arthur Samuel in the 1950s?',\n",
       "  'Choices': 'a: Program for calculating winning chance in checkers | b: Program for analyzing sonar signals | c: Program for recognizing speech patterns | d: Program for studying human cognitive processes',\n",
       "  'Correct': 'a'},\n",
       " {'MCQ': 'Which book introduced a theoretical neural structure by Donald Hebb in 1949?',\n",
       "  'Choices': 'a: Learning Machines by Nilsson | b: Computing Machinery and Intelligence by Alan Turing | c: The Organization of Behavior by Donald Hebb | d: The Organization of Artificial Neurons by Warren McCulloch',\n",
       "  'Correct': 'c'},\n",
       " {'MCQ': \"What was the purpose of the experimental 'learning machine' Cybertron developed by Raytheon Company in the early 1960s?\",\n",
       "  'Choices': 'a: Analyze electrocardiograms | b: Recognize patterns | c: Train artificial neural networks | d: Study human cognitive systems',\n",
       "  'Correct': 'b'},\n",
       " {'MCQ': 'According to Tom M. Mitchell, what does a computer program do in machine learning?',\n",
       "  'Choices': 'a: Improve performance at tasks in T with experience E | b: Define the field in cognitive terms | c: Develop models based on data | d: Make predictions for future outcomes',\n",
       "  'Correct': 'a'}]"
      ]
     },
     "execution_count": 29,
     "metadata": {},
     "output_type": "execute_result"
    }
   ],
   "source": [
    "quiz_table_data = []\n",
    "for key, value in quiz.items():\n",
    "    mcq = value[\"mcq\"]\n",
    "    options = \" | \".join(\n",
    "        [\n",
    "            f\"{option}: {option_value}\"\n",
    "            for option, option_value in value[\"options\"].items()\n",
    "            ]\n",
    "        )\n",
    "    correct = value[\"correct\"]\n",
    "    quiz_table_data.append({\"MCQ\": mcq, \"Choices\": options, \"Correct\": correct})\n",
    "\n",
    "quiz_table_data"
   ]
  },
  {
   "cell_type": "code",
   "execution_count": 30,
   "metadata": {},
   "outputs": [
    {
     "data": {
      "text/html": [
       "<div>\n",
       "<style scoped>\n",
       "    .dataframe tbody tr th:only-of-type {\n",
       "        vertical-align: middle;\n",
       "    }\n",
       "\n",
       "    .dataframe tbody tr th {\n",
       "        vertical-align: top;\n",
       "    }\n",
       "\n",
       "    .dataframe thead th {\n",
       "        text-align: right;\n",
       "    }\n",
       "</style>\n",
       "<table border=\"1\" class=\"dataframe\">\n",
       "  <thead>\n",
       "    <tr style=\"text-align: right;\">\n",
       "      <th></th>\n",
       "      <th>MCQ</th>\n",
       "      <th>Choices</th>\n",
       "      <th>Correct</th>\n",
       "    </tr>\n",
       "  </thead>\n",
       "  <tbody>\n",
       "    <tr>\n",
       "      <th>0</th>\n",
       "      <td>Who coined the term machine learning in 1959?</td>\n",
       "      <td>a: Donald Hebb | b: Walter Pitts | c: Arthur S...</td>\n",
       "      <td>c</td>\n",
       "    </tr>\n",
       "    <tr>\n",
       "      <th>1</th>\n",
       "      <td>What was the early machine learning model intr...</td>\n",
       "      <td>a: Program for calculating winning chance in c...</td>\n",
       "      <td>a</td>\n",
       "    </tr>\n",
       "    <tr>\n",
       "      <th>2</th>\n",
       "      <td>Which book introduced a theoretical neural str...</td>\n",
       "      <td>a: Learning Machines by Nilsson | b: Computing...</td>\n",
       "      <td>c</td>\n",
       "    </tr>\n",
       "    <tr>\n",
       "      <th>3</th>\n",
       "      <td>What was the purpose of the experimental 'lear...</td>\n",
       "      <td>a: Analyze electrocardiograms | b: Recognize p...</td>\n",
       "      <td>b</td>\n",
       "    </tr>\n",
       "    <tr>\n",
       "      <th>4</th>\n",
       "      <td>According to Tom M. Mitchell, what does a comp...</td>\n",
       "      <td>a: Improve performance at tasks in T with expe...</td>\n",
       "      <td>a</td>\n",
       "    </tr>\n",
       "  </tbody>\n",
       "</table>\n",
       "</div>"
      ],
      "text/plain": [
       "                                                 MCQ  \\\n",
       "0      Who coined the term machine learning in 1959?   \n",
       "1  What was the early machine learning model intr...   \n",
       "2  Which book introduced a theoretical neural str...   \n",
       "3  What was the purpose of the experimental 'lear...   \n",
       "4  According to Tom M. Mitchell, what does a comp...   \n",
       "\n",
       "                                             Choices Correct  \n",
       "0  a: Donald Hebb | b: Walter Pitts | c: Arthur S...       c  \n",
       "1  a: Program for calculating winning chance in c...       a  \n",
       "2  a: Learning Machines by Nilsson | b: Computing...       c  \n",
       "3  a: Analyze electrocardiograms | b: Recognize p...       b  \n",
       "4  a: Improve performance at tasks in T with expe...       a  "
      ]
     },
     "execution_count": 30,
     "metadata": {},
     "output_type": "execute_result"
    }
   ],
   "source": [
    "quiz_df=pd.DataFrame(quiz_table_data)\n",
    "quiz_df"
   ]
  },
  {
   "cell_type": "code",
   "execution_count": 32,
   "metadata": {},
   "outputs": [],
   "source": [
    "quiz_df.to_csv(\"machinelearning.csv\",index=False)"
   ]
  },
  {
   "cell_type": "code",
   "execution_count": null,
   "metadata": {},
   "outputs": [],
   "source": []
  }
 ],
 "metadata": {
  "kernelspec": {
   "display_name": "Python 3",
   "language": "python",
   "name": "python3"
  },
  "language_info": {
   "codemirror_mode": {
    "name": "ipython",
    "version": 3
   },
   "file_extension": ".py",
   "mimetype": "text/x-python",
   "name": "python",
   "nbconvert_exporter": "python",
   "pygments_lexer": "ipython3",
   "version": "3.10.14"
  }
 },
 "nbformat": 4,
 "nbformat_minor": 2
}
